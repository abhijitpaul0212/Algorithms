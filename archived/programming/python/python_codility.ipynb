{
 "cells": [
  {
   "cell_type": "markdown",
   "metadata": {},
   "source": [
    "### 1) BinaryGap"
   ]
  },
  {
   "cell_type": "code",
   "execution_count": 1,
   "metadata": {
    "collapsed": true
   },
   "outputs": [],
   "source": [
    "# BinaryGap\n",
    "\"\"\"\n",
    "\n",
    "For example, number 9 has binary representation 1001 \n",
    "and contains a binary gap of length 2. The number 529 has \n",
    "binary representation 1000010001 and contains two binary gaps:\n",
    "one of length 4 and one of length 3. The number 20 has binary \n",
    "representation 10100  and contains one binary gap of length 1. \n",
    "\n",
    "The number 15 has binary representation 1111 and has no binary gaps.\n",
    "\"\"\"\n",
    "\n",
    "def solution(N):\n",
    "    # write your code in Python 2.7\n",
    "    try:\n",
    "    \tcount = max([k.count(\"0\") for k in str(bin(N)[2:]).split(\"1\")][1:-1])\n",
    "    except:\n",
    "    \tcount = 0 \n",
    "    return count\n"
   ]
  },
  {
   "cell_type": "code",
   "execution_count": 2,
   "metadata": {},
   "outputs": [
    {
     "data": {
      "text/plain": [
       "1"
      ]
     },
     "execution_count": 2,
     "metadata": {},
     "output_type": "execute_result"
    }
   ],
   "source": [
    "solution(1000)"
   ]
  },
  {
   "cell_type": "markdown",
   "metadata": {},
   "source": [
    "### 2) CyclicRotation"
   ]
  },
  {
   "cell_type": "code",
   "execution_count": 3,
   "metadata": {
    "collapsed": true
   },
   "outputs": [],
   "source": [
    "\n",
    "\n",
    "# CyclicRotation\n",
    "\n",
    "\"\"\"\n",
    "\n",
    "For example, the rotation of array\n",
    "A = [3, 8, 9, 7, 6] is [6, 3, 8, 9, 7]. \n",
    "The goal is to rotate array A K times; that is,\n",
    "each element of A will be shifted to the right by K indexes.\n",
    "\n",
    "\n",
    "\n",
    "For example, given array A = [3, 8, 9, 7, 6] \n",
    "and K = 3, the function should return [9, 7, 6, 3, 8].\n",
    "\n",
    "\"\"\"\n",
    "\n",
    "def solution(A, K):\n",
    "    # write your code in Python 2.7\n",
    "    count = 0 \n",
    "    #K = K -1 \n",
    "    if len(A) == 0:\n",
    "        return []\n",
    "    else:\n",
    "        while count < K:\n",
    "            A.insert(0,A[-1])\n",
    "            A.pop(-1)\n",
    "            count += 1 \n",
    "        return A"
   ]
  },
  {
   "cell_type": "code",
   "execution_count": 4,
   "metadata": {},
   "outputs": [
    {
     "data": {
      "text/plain": [
       "[3, 4, 1, 2]"
      ]
     },
     "execution_count": 4,
     "metadata": {},
     "output_type": "execute_result"
    }
   ],
   "source": [
    "solution([1,2,3,4],2)"
   ]
  },
  {
   "cell_type": "markdown",
   "metadata": {},
   "source": [
    "### 3) PermMissingElem"
   ]
  },
  {
   "cell_type": "markdown",
   "metadata": {},
   "source": [
    "### 4) FrogJmp"
   ]
  },
  {
   "cell_type": "code",
   "execution_count": 5,
   "metadata": {
    "collapsed": true
   },
   "outputs": [],
   "source": [
    "\"\"\"\n",
    "For example, given:\n",
    "\n",
    "  X = 10\n",
    "  Y = 85\n",
    "  D = 30\n",
    "the function should return 3, because the frog will be positioned as follows:\n",
    "\n",
    "after the first jump, at position 10 + 30 = 40\n",
    "after the second jump, at position 10 + 30 + 30 = 70\n",
    "after the third jump, at position 10 + 30 + 30 + 30 = 100\n",
    "\"\"\"\n",
    "\n",
    "\n",
    "def solution(X, Y, D):\n",
    "    # write your code in Python 2.7\n",
    "    distance = Y - X \n",
    "    if distance == 0:\n",
    "        return 0 \n",
    "    if distance <= D:\n",
    "        rounds = 1 \n",
    "        return rounds\n",
    "    if distance%D == 0:\n",
    "        rounds = int(distance/D)\n",
    "    else:\n",
    "        rounds = round(distance/D) + 1 \n",
    "    return int(round(rounds))\n"
   ]
  },
  {
   "cell_type": "code",
   "execution_count": 6,
   "metadata": {},
   "outputs": [
    {
     "data": {
      "text/plain": [
       "0"
      ]
     },
     "execution_count": 6,
     "metadata": {},
     "output_type": "execute_result"
    }
   ],
   "source": [
    "solution(1,1,4)"
   ]
  },
  {
   "cell_type": "markdown",
   "metadata": {},
   "source": [
    "### 5) TapeEquilibrium ***"
   ]
  },
  {
   "cell_type": "code",
   "execution_count": 10,
   "metadata": {
    "collapsed": true
   },
   "outputs": [],
   "source": [
    "\"\"\"\n",
    "\n",
    "A non-empty zero-indexed array A consisting of N integers is given. Array A represents numbers on a tape.\n",
    "\n",
    "Any integer P, such that 0 < P < N, splits this tape into two non-empty parts: A[0], A[1], ..., A[P − 1] and A[P], A[P + 1], ..., A[N − 1].\n",
    "\n",
    "The difference between the two parts is the value of: |(A[0] + A[1] + ... + A[P − 1]) − (A[P] + A[P + 1] + ... + A[N − 1])|\n",
    "\n",
    "In other words, it is the absolute difference between the sum of the first part and the sum of the second part.\n",
    "\n",
    "For example, consider array A such that:\n",
    "\n",
    "  A[0] = 3\n",
    "  A[1] = 1\n",
    "  A[2] = 2\n",
    "  A[3] = 4\n",
    "  A[4] = 3\n",
    "We can split this tape in four places:\n",
    "\n",
    "P = 1, difference = |3 − 10| = 7 \n",
    "P = 2, difference = |4 − 9| = 5 \n",
    "P = 3, difference = |6 − 7| = 1 \n",
    "P = 4, difference = |10 − 3| = 7 \n",
    "Write a function:\n",
    "\n",
    "def solution(A)\n",
    "\n",
    "that, given a non-empty zero-indexed array A of N integers, returns the minimal difference that can be achieved.\n",
    "\n",
    "For example, given:\n",
    "\n",
    "  A[0] = 3\n",
    "  A[1] = 1\n",
    "  A[2] = 2\n",
    "  A[3] = 4\n",
    "  A[4] = 3\n",
    "the function should return 1, as explained above.\n",
    "\n",
    "\n",
    "\n",
    "\"\"\"\n",
    "def solution(A):\n",
    "    sum_of_part_2 = sum(A)\n",
    "    min_diff = None\n",
    "    sum_of_part_1 = 0 \n",
    "    for i in range(1,len(A)):\n",
    "        sum_of_part_1 += A[i-1]\n",
    "        sum_of_part_2 -= A[i-1]\n",
    "        distance = abs(sum_of_part_1 - sum_of_part_2)\n",
    "        if min_diff == None:\n",
    "            min_diff = distance\n",
    "        else:\n",
    "            min_diff = min(min_diff, distance)\n",
    "    return min_diff"
   ]
  },
  {
   "cell_type": "code",
   "execution_count": 11,
   "metadata": {},
   "outputs": [
    {
     "data": {
      "text/plain": [
       "1"
      ]
     },
     "execution_count": 11,
     "metadata": {},
     "output_type": "execute_result"
    }
   ],
   "source": [
    "a = [3, 1, 2, 4, 3]\n",
    "\n",
    "solution(a)"
   ]
  },
  {
   "cell_type": "markdown",
   "metadata": {},
   "source": [
    "### 6) PermMissingElem"
   ]
  },
  {
   "cell_type": "markdown",
   "metadata": {},
   "source": [
    "### 7) MissingInteger *"
   ]
  },
  {
   "cell_type": "code",
   "execution_count": 6,
   "metadata": {
    "collapsed": true
   },
   "outputs": [],
   "source": [
    "\"\"\"\n",
    "\n",
    "Write a function:\n",
    "\n",
    "int solution(int A[], int N);\n",
    "that, given an array A of N integers, returns the smallest positive integer (greater than 0) that does not occur in A.\n",
    "\n",
    "For example, given A = [1, 3, 6, 4, 1, 2], the function should return 5.\n",
    "\n",
    "For another example, given A = [1, 2, 3], the function should return 4.\n",
    "\n",
    "Given A = [−1, −3], the function should return 1.\n",
    "\"\"\"\n",
    "\n",
    "\n",
    "def solution(A):\n",
    "\tA = sorted(set(A))\n",
    "\tA = [x for x in A if x >0 ]\n",
    "\tn = len(A)\n",
    "\tif n ==0 or A[0] != 1:\n",
    "\t\treturn 1 \n",
    "\tfor k in range(len(A)-1) :\n",
    "\t\tif A[k+1] - A[k] != 1:\n",
    "\t\t\treturn A[k] + 1 \n",
    "\treturn A[n-1] + 1 \n"
   ]
  },
  {
   "cell_type": "code",
   "execution_count": 2,
   "metadata": {
    "collapsed": true
   },
   "outputs": [],
   "source": [
    "x=[1,2,3]\n",
    "y=[-1,1,2,3]\n",
    "z=[-1,2,3]"
   ]
  },
  {
   "cell_type": "code",
   "execution_count": 5,
   "metadata": {},
   "outputs": [
    {
     "name": "stdout",
     "output_type": "stream",
     "text": [
      "4\n",
      "4\n",
      "1\n"
     ]
    }
   ],
   "source": [
    "print (solution(x))\n",
    "print (solution(y))\n",
    "print (solution(z))"
   ]
  },
  {
   "cell_type": "markdown",
   "metadata": {},
   "source": [
    "### 8) PermCheck *"
   ]
  },
  {
   "cell_type": "code",
   "execution_count": 7,
   "metadata": {
    "collapsed": true
   },
   "outputs": [],
   "source": [
    "\"\"\"\n",
    "A non-empty zero-indexed array A consisting of N integers is given.\n",
    "\n",
    "A permutation is a sequence containing each element from 1 to N once, and only once.\n",
    "\n",
    "For example, array A such that:\n",
    "\n",
    "    A[0] = 4\n",
    "    A[1] = 1\n",
    "    A[2] = 3\n",
    "    A[3] = 2\n",
    "is a permutation, but array A such that:\n",
    "\n",
    "    A[0] = 4\n",
    "    A[1] = 1\n",
    "    A[2] = 3\n",
    "is not a permutation, because value 2 is missing.\n",
    "\n",
    "The goal is to check whether array A is a permutation.\n",
    "\n",
    "Write a function:\n",
    "\n",
    "def solution(A)\n",
    "\n",
    "that, given a zero-indexed array A, returns 1 if array A is a permutation and 0 if it is not.\n",
    "\n",
    "For example, given array A such that:\n",
    "\n",
    "    A[0] = 4\n",
    "    A[1] = 1\n",
    "    A[2] = 3\n",
    "    A[3] = 2\n",
    "the function should return 1.\n",
    "\n",
    "Given array A such that:\n",
    "\n",
    "    A[0] = 4\n",
    "    A[1] = 1\n",
    "    A[2] = 3\n",
    "the function should return 0.\n",
    "\n",
    "\n",
    "\"\"\"\n",
    "\n",
    "\n",
    "def solution(A):\n",
    "    A.sort()\n",
    "    l = len(A)\n",
    "    if A[0] != 1:\n",
    "        return 0\n",
    "    else:\n",
    "        for i, e in enumerate(A):\n",
    "            # l != i + 1 : avoid index out of range \n",
    "            if l != i + 1 and A[i] != A[i+1] - 1:\n",
    "                return 0\n",
    "    return 1\n",
    "\n"
   ]
  },
  {
   "cell_type": "code",
   "execution_count": 8,
   "metadata": {},
   "outputs": [
    {
     "data": {
      "text/plain": [
       "1"
      ]
     },
     "execution_count": 8,
     "metadata": {},
     "output_type": "execute_result"
    }
   ],
   "source": [
    "solution([1,2,3])"
   ]
  }
 ],
 "metadata": {
  "kernelspec": {
   "display_name": "Python 3",
   "language": "python",
   "name": "python3"
  },
  "language_info": {
   "codemirror_mode": {
    "name": "ipython",
    "version": 3
   },
   "file_extension": ".py",
   "mimetype": "text/x-python",
   "name": "python",
   "nbconvert_exporter": "python",
   "pygments_lexer": "ipython3",
   "version": "3.4.5"
  }
 },
 "nbformat": 4,
 "nbformat_minor": 2
}
