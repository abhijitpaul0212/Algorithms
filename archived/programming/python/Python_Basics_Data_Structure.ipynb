{
 "cells": [
  {
   "cell_type": "markdown",
   "metadata": {},
   "source": [
    "### ref :\n",
    "\n",
    "- http://allenchien.logdown.com/posts/419722-python-study-notes-4-list\n",
    "- https://docs.python.org.tw/3/tutorial/datastructures.html"
   ]
  },
  {
   "cell_type": "markdown",
   "metadata": {},
   "source": [
    "## 1) Queue"
   ]
  },
  {
   "cell_type": "code",
   "execution_count": 2,
   "metadata": {},
   "outputs": [],
   "source": [
    "from collections import deque\n",
    "def list_deque():\n",
    "    queue = deque([\"Eric\", \"John\", \"Michael\"])\n",
    "    queue.append(\"Terry\")\n",
    "    queue.append(\"Graham\")\n",
    "    print(queue)\n",
    "    print(queue.popleft())\n",
    "    print(queue.popleft())\n",
    "    print(queue)\n"
   ]
  },
  {
   "cell_type": "code",
   "execution_count": 3,
   "metadata": {},
   "outputs": [
    {
     "name": "stdout",
     "output_type": "stream",
     "text": [
      "deque(['Eric', 'John', 'Michael', 'Terry', 'Graham'])\n",
      "Eric\n",
      "John\n",
      "deque(['Michael', 'Terry', 'Graham'])\n"
     ]
    }
   ],
   "source": [
    "list_deque()"
   ]
  },
  {
   "cell_type": "markdown",
   "metadata": {},
   "source": [
    "## 2) del"
   ]
  },
  {
   "cell_type": "code",
   "execution_count": 6,
   "metadata": {
    "collapsed": true
   },
   "outputs": [],
   "source": [
    "def list_del():\n",
    "    a = [-1, 1, 66.25, 333, 333, 1234.5]\n",
    "    del a[0]\n",
    "    print(a)\n",
    "    del a[2:4]\n",
    "    print(a)\n",
    "    del a[:]\n",
    "    print(a)\n",
    "    del a  # will be error if \"print (a)\" or \"refer a\"\n"
   ]
  },
  {
   "cell_type": "code",
   "execution_count": 7,
   "metadata": {},
   "outputs": [
    {
     "name": "stdout",
     "output_type": "stream",
     "text": [
      "[1, 66.25, 333, 333, 1234.5]\n",
      "[1, 66.25, 1234.5]\n",
      "[]\n"
     ]
    }
   ],
   "source": [
    "list_del()"
   ]
  },
  {
   "cell_type": "markdown",
   "metadata": {},
   "source": [
    "## 3) Set"
   ]
  },
  {
   "cell_type": "code",
   "execution_count": 16,
   "metadata": {
    "collapsed": true
   },
   "outputs": [],
   "source": [
    "def set_test():\n",
    "    basket = {'apple', 'orange', 'apple', 'pear', 'orange', 'banana'}\n",
    "    print ('type of basket', type(basket))\n",
    "    print ('')\n",
    "    print(basket)\n",
    "    print('orange' in basket)\n",
    "    print('crabgrass' in basket)\n",
    "    a = set('abracadabra')\n",
    "    b = set('alacazam')\n",
    "    print(a)\n",
    "    c = a - b  # in a but not in b \n",
    "\n",
    "    print(c)\n",
    "    c = a | b  # in a or b \n",
    "\n",
    "    print(c)\n",
    "    c = a & b  # both in a and b \n",
    "\n",
    "    print(c)\n",
    "    c = a ^ b  # in either a or b, but not both in a and b \n",
    "\n",
    "    print(c)"
   ]
  },
  {
   "cell_type": "code",
   "execution_count": 15,
   "metadata": {},
   "outputs": [
    {
     "name": "stdout",
     "output_type": "stream",
     "text": [
      "type of basket <class 'set'>\n",
      "\n",
      "{'pear', 'banana', 'orange', 'apple'}\n",
      "True\n",
      "False\n",
      "{'r', 'd', 'c', 'a', 'b'}\n",
      "{'r', 'd', 'b'}\n",
      "{'r', 'z', 'd', 'c', 'm', 'l', 'a', 'b'}\n",
      "{'c', 'a'}\n",
      "{'r', 'd', 'm', 'l', 'b', 'z'}\n"
     ]
    }
   ],
   "source": [
    "set_test()"
   ]
  },
  {
   "cell_type": "markdown",
   "metadata": {},
   "source": [
    "## 4) Dict"
   ]
  },
  {
   "cell_type": "code",
   "execution_count": 23,
   "metadata": {
    "collapsed": true
   },
   "outputs": [],
   "source": [
    "def dict_test():\n",
    "    tel = {'jack': 4098, 'sape': 4139}\n",
    "    tel['guido'] = 4127\n",
    "    print(tel)\n",
    "    print(tel['jack'])\n",
    "    del tel['sape']\n",
    "    tel['irv'] = 4127\n",
    "    print(tel)\n",
    "    print(tel.keys())\n",
    "    tel_sort = sorted(tel.keys())\n",
    "    print(tel_sort)\n",
    "\n"
   ]
  },
  {
   "cell_type": "code",
   "execution_count": 24,
   "metadata": {},
   "outputs": [
    {
     "name": "stdout",
     "output_type": "stream",
     "text": [
      "{'jack': 4098, 'sape': 4139, 'guido': 4127}\n",
      "4098\n",
      "{'jack': 4098, 'irv': 4127, 'guido': 4127}\n",
      "dict_keys(['jack', 'irv', 'guido'])\n",
      "['guido', 'irv', 'jack']\n"
     ]
    }
   ],
   "source": [
    "dict_test()"
   ]
  }
 ],
 "metadata": {
  "kernelspec": {
   "display_name": "Python 3",
   "language": "python",
   "name": "python3"
  },
  "language_info": {
   "codemirror_mode": {
    "name": "ipython",
    "version": 3
   },
   "file_extension": ".py",
   "mimetype": "text/x-python",
   "name": "python",
   "nbconvert_exporter": "python",
   "pygments_lexer": "ipython3",
   "version": "3.4.5"
  }
 },
 "nbformat": 4,
 "nbformat_minor": 2
}
