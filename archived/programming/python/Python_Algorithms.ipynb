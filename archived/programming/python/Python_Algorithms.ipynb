{
 "cells": [
  {
   "cell_type": "markdown",
   "metadata": {},
   "source": [
    "## ref\n",
    "\n",
    "- https://github.com/keon/algorithms"
   ]
  },
  {
   "cell_type": "markdown",
   "metadata": {},
   "source": [
    "# 1) Array"
   ]
  },
  {
   "cell_type": "markdown",
   "metadata": {},
   "source": [
    "### 1-1) flatten"
   ]
  },
  {
   "cell_type": "code",
   "execution_count": 1,
   "metadata": {
    "collapsed": true
   },
   "outputs": [],
   "source": [
    "# given  [2, 1, [3, [4, 5], 6], 7, [8]] \n",
    "# output [2, 1, 3, 4, 5, 6, 7, 8]\n",
    "\n",
    "def list_flatten(l, a=None):\n",
    "    print ('a = ', a)\n",
    "    a = list(a) if isinstance(a, (list, tuple)) else []\n",
    "    for i in l:\n",
    "        #print ('i = ', i)\n",
    "        if isinstance(i, (list, tuple)):\n",
    "            a = list_flatten(i, a)\n",
    "        else:\n",
    "            a.append(i)\n",
    "    return a"
   ]
  },
  {
   "cell_type": "code",
   "execution_count": 2,
   "metadata": {},
   "outputs": [
    {
     "name": "stdout",
     "output_type": "stream",
     "text": [
      "a =  None\n",
      "a =  [2, 1]\n",
      "a =  [2, 1, 3]\n",
      "a =  [2, 1, 3, 4, 5, 6, 7]\n"
     ]
    },
    {
     "data": {
      "text/plain": [
       "[2, 1, 3, 4, 5, 6, 7, 8]"
      ]
     },
     "execution_count": 2,
     "metadata": {},
     "output_type": "execute_result"
    }
   ],
   "source": [
    "given =  [2, 1, [3, [4, 5], 6], 7, [8]] \n",
    "list_flatten(given)"
   ]
  },
  {
   "cell_type": "markdown",
   "metadata": {},
   "source": [
    "### 1-2) garage"
   ]
  },
  {
   "cell_type": "code",
   "execution_count": 3,
   "metadata": {
    "collapsed": true
   },
   "outputs": [],
   "source": [
    "# https://github.com/keon/algorithms/blob/master/array/garage.py\n",
    "\n",
    "# The goal is to \"find out the least movement needed to rearrange\n",
    "# the parking lot from the initial state to the final state.\"\n",
    "#Each step we are only allowed tomove a car\n",
    "\n",
    "# Say the initial state is an array:\n",
    "\n",
    "# [1,2,3,0,4],\n",
    "# where 1,2,3,4 are different cars, and 0 is the empty spot.\n",
    "\n",
    "# And the final state is\n",
    "\n",
    "# [0,3,2,1,4].\n",
    "# We can swap 1 with 0 in the initial array to get [0,2,3,1,4] and so on.\n",
    "# Each step swap with 0 only.\n",
    "# credit by cyberking-saga\n",
    "\n",
    "\n",
    "\n",
    "def garage(initial, final):\n",
    "    steps = 0\n",
    "    while initial != final:\n",
    "        zero = initial.index(0)\n",
    "        if zero != final.index(0):\n",
    "            car_to_move = final[zero]\n",
    "            pos = initial.index(car_to_move)\n",
    "            initial[zero], initial[pos] = initial[pos], initial[zero]\n",
    "        else:\n",
    "            for i in range(len(initial)):\n",
    "                if initial[i] != final[i]:\n",
    "                    initial[zero], initial[i] = initial[i], initial[zero]\n",
    "                    break\n",
    "        steps += 1\n",
    "    return steps\n"
   ]
  },
  {
   "cell_type": "code",
   "execution_count": 4,
   "metadata": {},
   "outputs": [
    {
     "name": "stdout",
     "output_type": "stream",
     "text": [
      "initial: [4, 2, 3, 1, 0]\n",
      "final: [0, 3, 2, 1, 4]\n",
      "4\n"
     ]
    }
   ],
   "source": [
    "initial = [4, 2, 3, 1, 0]\n",
    "final = [0, 3, 2, 1, 4]\n",
    "print(\"initial:\", initial)\n",
    "print(\"final:\", final)\n",
    "print(garage(initial, final))"
   ]
  },
  {
   "cell_type": "markdown",
   "metadata": {},
   "source": [
    "### 1-3) longest_non_repeat"
   ]
  },
  {
   "cell_type": "code",
   "execution_count": 133,
   "metadata": {
    "collapsed": true
   },
   "outputs": [],
   "source": [
    "def longest_non_repeat(s):\n",
    "    start, maxlen = 0, 0\n",
    "    used_char = {}\n",
    "    for i, char in enumerate(s):\n",
    "        if char in used_char and start <= used_char[char]:\n",
    "            start = used_char[char] + 1\n",
    "        else:\n",
    "            maxlen = max(maxlen, i-start+1)\n",
    "        used_char[char] = i\n",
    "        output = ''.join( str(x) for x in list(used_char.keys()) )\n",
    "    return maxlen, output"
   ]
  },
  {
   "cell_type": "code",
   "execution_count": 140,
   "metadata": {},
   "outputs": [
    {
     "data": {
      "text/plain": [
       "(7, 'faedzcb')"
      ]
     },
     "execution_count": 140,
     "metadata": {},
     "output_type": "execute_result"
    }
   ],
   "source": [
    "a = \"abcabcdefzb\"\n",
    "b = \"qweeioplkj\"\n",
    "c = \"eeerfevg4e\"\n",
    "longest_non_repeat(a)"
   ]
  },
  {
   "cell_type": "markdown",
   "metadata": {},
   "source": [
    "### 1-4) merge_intervals"
   ]
  },
  {
   "cell_type": "code",
   "execution_count": 142,
   "metadata": {
    "collapsed": true
   },
   "outputs": [],
   "source": [
    "# Definition for an interval.\n",
    "class Interval(object):\n",
    "    def __init__(self, s=0, e=0):\n",
    "        self.start = s\n",
    "        self.end = e\n",
    "\n",
    "def merge(intervals):\n",
    "    \"\"\"\n",
    "    :type intervals: List[Interval]\n",
    "    :rtype: List[Interval]\n",
    "    \"\"\"\n",
    "    out = []\n",
    "    for i in sorted(intervals, key=lambda i: i.start):\n",
    "        if out and i.start <= out[-1].end:\n",
    "            out[-1].end = max(out[-1].end, i.end)\n",
    "        else:\n",
    "            out += i,\n",
    "    return out\n",
    "\n",
    "def print_intervals(intervals):\n",
    "    res = []\n",
    "    for i in intervals:\n",
    "        res.append('['+str(i.start)+','+str(i.end)+']')\n",
    "    print(\"\".join(res))\n",
    "\n"
   ]
  },
  {
   "cell_type": "code",
   "execution_count": 143,
   "metadata": {},
   "outputs": [
    {
     "name": "stdout",
     "output_type": "stream",
     "text": [
      "[1,99][2,6][8,10][15,18]\n",
      "[1,99]\n"
     ]
    }
   ],
   "source": [
    "given = [[1,99],[2,6],[8,10],[15,18]]\n",
    "intervals = []\n",
    "for l, r in given:\n",
    "    intervals.append(Interval(l,r))\n",
    "print_intervals(intervals)\n",
    "print_intervals(merge(intervals))"
   ]
  },
  {
   "cell_type": "markdown",
   "metadata": {},
   "source": [
    "### 1-5) missing_ranges"
   ]
  },
  {
   "cell_type": "code",
   "execution_count": 13,
   "metadata": {},
   "outputs": [],
   "source": [
    "## find missing ranges between low and high in the given array.\n",
    "# ex) [3, 5] lo=1 hi=10 => answer: [1->2, 4, 6->10]\n",
    "\n",
    "def missing_ranges(nums, lo, hi):\n",
    "    res = []\n",
    "    start = lo\n",
    "    for num in nums:\n",
    "        if num < start:\n",
    "            # if countinue, neglect following code in this loop, countiune next loop \n",
    "            continue\n",
    "        if num == start:\n",
    "            start += 1\n",
    "            continue\n",
    "        res.append(get_range(start, num-1))\n",
    "        start = num + 1\n",
    "        #print (start)\n",
    "    if start <= hi:\n",
    "        res.append(get_range(start, hi))\n",
    "    return res\n",
    "\n",
    "def get_range(n1, n2):\n",
    "    if n1 == n2:\n",
    "        return str(n1)\n",
    "    else:\n",
    "        return str(n1) + \"->\" + str(n2)\n",
    "\n"
   ]
  },
  {
   "cell_type": "code",
   "execution_count": 15,
   "metadata": {},
   "outputs": [
    {
     "name": "stdout",
     "output_type": "stream",
     "text": [
      "original: [3, 5, 10, 11, 12, 15, 19]\n",
      "missing range:  ['0->2', '4', '6->9', '13->14', '16->18', '20->200']\n"
     ]
    }
   ],
   "source": [
    "nums = [3, 5, 10, 11, 12, 15, 19]\n",
    "print(\"original:\", nums)\n",
    "print(\"missing range: \", missing_ranges(nums,0,200))"
   ]
  },
  {
   "cell_type": "code",
   "execution_count": null,
   "metadata": {
    "collapsed": true
   },
   "outputs": [],
   "source": []
  },
  {
   "cell_type": "markdown",
   "metadata": {},
   "source": [
    "### 1-6) plus_one"
   ]
  },
  {
   "cell_type": "markdown",
   "metadata": {},
   "source": [
    "### 1-7) rotate_array"
   ]
  },
  {
   "cell_type": "code",
   "execution_count": 28,
   "metadata": {
    "collapsed": true
   },
   "outputs": [],
   "source": [
    "# example : rotate([1,2,3,4,5,6,7],3) -> \n",
    "\n",
    "\n",
    "def rotate(nums, k):\n",
    "    \"\"\"\n",
    "    :type nums: List[int]\n",
    "    :type k: int\n",
    "    :rtype: void Do not return anything, modify nums in-place instead.\n",
    "    \"\"\"\n",
    "    n = len(nums)\n",
    "    k = k % n\n",
    "    reverse(nums, 0, n - k - 1)\n",
    "    reverse(nums, n - k, n - 1)\n",
    "    reverse(nums, 0, n - 1)\n",
    "    return nums\n",
    "\n",
    "\n",
    "def reverse(array, a, b):\n",
    "    while a < b:\n",
    "        array[a], array[b] = array[b], array[a]\n",
    "        a += 1\n",
    "        b -= 1"
   ]
  },
  {
   "cell_type": "code",
   "execution_count": 127,
   "metadata": {
    "collapsed": true
   },
   "outputs": [],
   "source": [
    "a = [1, 2, 3, 4, 10, 11, 20, 101021, 1423, 0]"
   ]
  },
  {
   "cell_type": "code",
   "execution_count": 128,
   "metadata": {},
   "outputs": [
    {
     "data": {
      "text/plain": [
       "[11, 20, 101021, 1423, 0, 1, 2, 3, 4, 10]"
      ]
     },
     "execution_count": 128,
     "metadata": {},
     "output_type": "execute_result"
    }
   ],
   "source": [
    "rotate(a, 5)"
   ]
  },
  {
   "cell_type": "code",
   "execution_count": 130,
   "metadata": {
    "collapsed": true
   },
   "outputs": [],
   "source": [
    "def my_rotate(array,n):\n",
    "    if n == 0:\n",
    "        return array\n",
    "    else:\n",
    "        length = len(array)\n",
    "        array_ = array[-n:]\n",
    "        array_sub = array[:length- n]\n",
    "        array_rotate = array_+  array_sub  \n",
    "        return  array_rotate"
   ]
  },
  {
   "cell_type": "code",
   "execution_count": 131,
   "metadata": {
    "collapsed": true
   },
   "outputs": [],
   "source": [
    "a = [1, 2, 3, 4, 10, 11, 20, 101021, 1423, 0]"
   ]
  },
  {
   "cell_type": "code",
   "execution_count": 134,
   "metadata": {},
   "outputs": [
    {
     "data": {
      "text/plain": [
       "[11, 20, 101021, 1423, 0, 1, 2, 3, 4, 10]"
      ]
     },
     "execution_count": 134,
     "metadata": {},
     "output_type": "execute_result"
    }
   ],
   "source": [
    "my_rotate(a,5)"
   ]
  }
 ],
 "metadata": {
  "kernelspec": {
   "display_name": "Python 3",
   "language": "python",
   "name": "python3"
  },
  "language_info": {
   "codemirror_mode": {
    "name": "ipython",
    "version": 3
   },
   "file_extension": ".py",
   "mimetype": "text/x-python",
   "name": "python",
   "nbconvert_exporter": "python",
   "pygments_lexer": "ipython3",
   "version": "3.4.5"
  }
 },
 "nbformat": 4,
 "nbformat_minor": 2
}
