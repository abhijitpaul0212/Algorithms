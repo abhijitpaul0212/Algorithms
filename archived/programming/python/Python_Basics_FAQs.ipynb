{
 "cells": [
  {
   "cell_type": "markdown",
   "metadata": {},
   "source": [
    "### 1. Make numbers in a list ordering by value ?"
   ]
  },
  {
   "cell_type": "code",
   "execution_count": 1,
   "metadata": {
    "collapsed": true
   },
   "outputs": [],
   "source": [
    "# http://wuchong.me/blog/2014/02/09/algorithm-sort-summary/\n",
    "\n",
    "# method 1 \n",
    "# using max, remove \n",
    "def value_ordering(x):\n",
    "    out=[]\n",
    "    for k in range(len(x)):\n",
    "        #print ((x))\n",
    "        out.append(max(x))\n",
    "        x.remove(max(x))\n",
    "    return out\n",
    "\n"
   ]
  },
  {
   "cell_type": "code",
   "execution_count": 2,
   "metadata": {},
   "outputs": [
    {
     "data": {
      "text/plain": [
       "[9, 8, 6, 5, 5, 4, 1]"
      ]
     },
     "execution_count": 2,
     "metadata": {},
     "output_type": "execute_result"
    }
   ],
   "source": [
    "my_list = [8,1,9,4,5,5,6]\n",
    "value_ordering(my_list)"
   ]
  },
  {
   "cell_type": "code",
   "execution_count": 3,
   "metadata": {
    "collapsed": true,
    "scrolled": true
   },
   "outputs": [],
   "source": [
    "# method 2 \n",
    "# bubble \n",
    "def bubble_sort(arry):\n",
    "    n = len(arry)                                       #get length of list \n",
    "    for i in range(n):\n",
    "        for j in range(1,n-i):\n",
    "            if  arry[j-1] > arry[j] :                   # if the former > later, \n",
    "                arry[j-1],arry[j] = arry[j],arry[j-1]   #then reverse them\n",
    "                print (arry)\n",
    "    return arry\n"
   ]
  },
  {
   "cell_type": "code",
   "execution_count": 4,
   "metadata": {},
   "outputs": [
    {
     "name": "stdout",
     "output_type": "stream",
     "text": [
      "[1, 8, 9, 4, 5, 5, 6]\n",
      "[1, 8, 4, 9, 5, 5, 6]\n",
      "[1, 8, 4, 5, 9, 5, 6]\n",
      "[1, 8, 4, 5, 5, 9, 6]\n",
      "[1, 8, 4, 5, 5, 6, 9]\n",
      "[1, 4, 8, 5, 5, 6, 9]\n",
      "[1, 4, 5, 8, 5, 6, 9]\n",
      "[1, 4, 5, 5, 8, 6, 9]\n",
      "[1, 4, 5, 5, 6, 8, 9]\n"
     ]
    },
    {
     "data": {
      "text/plain": [
       "[1, 4, 5, 5, 6, 8, 9]"
      ]
     },
     "execution_count": 4,
     "metadata": {},
     "output_type": "execute_result"
    }
   ],
   "source": [
    "my_list = [8,1,9,4,5,5,6]\n",
    "bubble_sort(my_list)"
   ]
  },
  {
   "cell_type": "code",
   "execution_count": 5,
   "metadata": {
    "collapsed": true
   },
   "outputs": [],
   "source": [
    "# method 3 \n",
    "\n",
    "def select_sort(ary):\n",
    "    n = len(ary)\n",
    "    for i in range(0,n):\n",
    "        min = i                             #get index of min element \n",
    "        for j in range(i+1,n):\n",
    "            if ary[j] < ary[min] :\n",
    "                min = j                     #get index of minimum element \n",
    "        ary[min],ary[i] = ary[i],ary[min]   #reverse each other \n",
    "        print (ary)\n",
    "    return ary"
   ]
  },
  {
   "cell_type": "code",
   "execution_count": 6,
   "metadata": {},
   "outputs": [
    {
     "name": "stdout",
     "output_type": "stream",
     "text": [
      "[1, 8, 9, 4, 5, 5, 6]\n",
      "[1, 4, 9, 8, 5, 5, 6]\n",
      "[1, 4, 5, 8, 9, 5, 6]\n",
      "[1, 4, 5, 5, 9, 8, 6]\n",
      "[1, 4, 5, 5, 6, 8, 9]\n",
      "[1, 4, 5, 5, 6, 8, 9]\n",
      "[1, 4, 5, 5, 6, 8, 9]\n"
     ]
    },
    {
     "data": {
      "text/plain": [
       "[1, 4, 5, 5, 6, 8, 9]"
      ]
     },
     "execution_count": 6,
     "metadata": {},
     "output_type": "execute_result"
    }
   ],
   "source": [
    "my_list = [8,1,9,4,5,5,6]\n",
    "select_sort(my_list)"
   ]
  },
  {
   "cell_type": "code",
   "execution_count": 7,
   "metadata": {
    "collapsed": true
   },
   "outputs": [],
   "source": [
    "# method 5 : bubble \n",
    "\n",
    "\n",
    "# example :\n",
    "# [5,4,1,2] =>\n",
    "# ocunt 0 \n",
    "# [4,5,1,2]\n",
    "# [4,1,5,2]\n",
    "# [4,1,2,5]\n",
    "# count 1 \n",
    "# [1,4,2,5]\n",
    "# [1,2,4,5]\n",
    "# count 2 \n",
    "\n",
    "### run N-1 times : loop every consecutive in list\n",
    "### N = length of list \n",
    "\n",
    "\n",
    "\n",
    "def sort_list(list):\n",
    "    count = 0\n",
    "    while count < len(list):\n",
    "        for j,k in enumerate(list):\n",
    "            try:\n",
    "                if list[j] > list[j+1]:\n",
    "                    list[j], list[j+1] = list[j+1], list[j]\n",
    "                else:\n",
    "                    pass\n",
    "            except:\n",
    "                pass \n",
    "\n",
    "            j+=1 \n",
    "        count += 1 \n",
    "    print (list)"
   ]
  },
  {
   "cell_type": "code",
   "execution_count": 10,
   "metadata": {},
   "outputs": [
    {
     "name": "stdout",
     "output_type": "stream",
     "text": [
      "[1, 4, 5, 5, 6, 8, 9]\n"
     ]
    }
   ],
   "source": [
    "my_list = [8,1,9,4,5,5,6]\n",
    "sort_list(my_list)"
   ]
  },
  {
   "cell_type": "markdown",
   "metadata": {
    "collapsed": true
   },
   "source": [
    "### 2) check type of object "
   ]
  },
  {
   "cell_type": "code",
   "execution_count": 11,
   "metadata": {},
   "outputs": [
    {
     "name": "stdout",
     "output_type": "stream",
     "text": [
      "True\n",
      "False\n",
      "False\n"
     ]
    }
   ],
   "source": [
    "# using isinstance instead of type \n",
    "# since isinstance can work well when in sub-class / class, but type no \n",
    "\n",
    "a = 4\n",
    "print (isinstance (a,int))\n",
    "print (isinstance (a,str))\n",
    "print (isinstance (a,float))"
   ]
  },
  {
   "cell_type": "code",
   "execution_count": 12,
   "metadata": {},
   "outputs": [
    {
     "name": "stdout",
     "output_type": "stream",
     "text": [
      "True\n",
      "False\n",
      "True\n"
     ]
    }
   ],
   "source": [
    "a = \"b\"\n",
    "\n",
    "print (isinstance (a,str))\n",
    "print (isinstance(a,(int,list,float)))\n",
    "print (isinstance(a,(int,list,str)))"
   ]
  },
  {
   "cell_type": "code",
   "execution_count": 13,
   "metadata": {},
   "outputs": [
    {
     "name": "stdout",
     "output_type": "stream",
     "text": [
      "True\n",
      "True\n",
      "True\n",
      "False\n"
     ]
    }
   ],
   "source": [
    "class A:\n",
    "    pass\n",
    "\n",
    "class B(A):\n",
    "    pass\n",
    "\n",
    "print (isinstance(A(), A)) # returns True\n",
    "print (type(A()) == A )     # returns True\n",
    "print (isinstance(B(), A))    # returns True\n",
    "print (type(B()) == A )       # returns False"
   ]
  },
  {
   "cell_type": "code",
   "execution_count": null,
   "metadata": {
    "collapsed": true
   },
   "outputs": [],
   "source": []
  },
  {
   "cell_type": "markdown",
   "metadata": {
    "collapsed": true
   },
   "source": [
    "### 3) Fibonacci"
   ]
  },
  {
   "cell_type": "code",
   "execution_count": 2,
   "metadata": {
    "collapsed": true
   },
   "outputs": [],
   "source": [
    "# Fibonacci series : 0,1,1,2,3,5,8,13... + F(n-1)+F(n-2) + Fn\n",
    "# (F0=0，F1=1，Fn=F(n-1)+F(n-2)（n>=2，n∈N*）)"
   ]
  },
  {
   "cell_type": "code",
   "execution_count": 3,
   "metadata": {
    "collapsed": true
   },
   "outputs": [],
   "source": [
    "def f(n):\n",
    "    a,b = 0,1\n",
    "    for k in range(n):\n",
    "        a,b = b, a+b\n",
    "    return a "
   ]
  },
  {
   "cell_type": "code",
   "execution_count": 5,
   "metadata": {},
   "outputs": [
    {
     "name": "stdout",
     "output_type": "stream",
     "text": [
      "0\n",
      "1\n",
      "1\n",
      "2\n",
      "3\n",
      "5\n",
      "8\n",
      "13\n",
      "21\n",
      "34\n"
     ]
    }
   ],
   "source": [
    "for count in range(10):\n",
    "    print (f(count))"
   ]
  },
  {
   "cell_type": "code",
   "execution_count": null,
   "metadata": {
    "collapsed": true
   },
   "outputs": [],
   "source": []
  }
 ],
 "metadata": {
  "kernelspec": {
   "display_name": "Python 3",
   "language": "python",
   "name": "python3"
  },
  "language_info": {
   "codemirror_mode": {
    "name": "ipython",
    "version": 3
   },
   "file_extension": ".py",
   "mimetype": "text/x-python",
   "name": "python",
   "nbconvert_exporter": "python",
   "pygments_lexer": "ipython3",
   "version": "3.4.5"
  }
 },
 "nbformat": 4,
 "nbformat_minor": 2
}
