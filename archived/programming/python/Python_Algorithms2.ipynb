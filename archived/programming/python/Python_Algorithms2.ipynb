{
 "cells": [
  {
   "cell_type": "markdown",
   "metadata": {},
   "source": [
    "## ref\n",
    "\n",
    "- https://github.com/kamyu104/LeetCode?fref=gc"
   ]
  },
  {
   "cell_type": "markdown",
   "metadata": {},
   "source": [
    "### 1) hamming-distance"
   ]
  },
  {
   "cell_type": "code",
   "execution_count": 3,
   "metadata": {
    "collapsed": true
   },
   "outputs": [],
   "source": [
    "# Time:  O(1)\n",
    "# Space: O(1)\n",
    "\n",
    "# The Hamming distance between two integers is the number of positions\n",
    "# at which the corresponding bits are different.\n",
    "#\n",
    "# Given two integers x and y, calculate the Hamming distance.\n",
    "#\n",
    "# Note:\n",
    "# 0 ≤ x, y < 231.\n",
    "#\n",
    "# Example:\n",
    "#\n",
    "# Input: x = 1, y = 4\n",
    "#\n",
    "# Output: 2\n",
    "#\n",
    "# Explanation:\n",
    "# 1   (0 0 0 1)\n",
    "# 4   (0 1 0 0)\n",
    "#       ↑   ↑\n",
    "#\n",
    "# The above arrows point to positions where the corresponding bits are different.\n",
    "\n",
    "class Solution(object):\n",
    "    def hammingDistance(self, x, y):\n",
    "        \"\"\"\n",
    "        :type x: int\n",
    "        :type y: int\n",
    "        :rtype: int\n",
    "        \"\"\"\n",
    "        distance = 0\n",
    "        z = x ^ y\n",
    "        while z:\n",
    "            distance += 1\n",
    "            z &= z - 1\n",
    "        return distance\n",
    "\n",
    "    def hammingDistance2(self, x, y):\n",
    "        ### bin :  integer number to a binary string\n",
    "        ### e.g. bin(4) = 0100, bin(10) = 1001\n",
    "        ### ^ (Bitwise XOR) : Bitwise operator in python \n",
    "        ### e.g. 0100 ^ 1001 = 1101\n",
    "        ### -> bin(10^4) = (1010 ^ 0100) = 1110\n",
    "        ### https://books.google.co.uk/books?id=PqWZDQAAQBAJ&pg=SA2-PA15&lpg=SA2-PA15&dq=PYTHON++%E4%BD%8D%E5%85%83%E4%BA%92%E6%96%A5&source=bl&ots=URW8BJ03n3&sig=R_W_o0wwsk2ZRqHQbZxwuGO0yEE&hl=en&sa=X&ved=0ahUKEwilz8uDwvnVAhUCchQKHZ3tBLoQ6AEINjAC#v=onepage&q=PYTHON%20%20%E4%BD%8D%E5%85%83%E4%BA%92%E6%96%A5&f=false\n",
    "        \"\"\"\n",
    "        :type x: int\n",
    "        :type y: int\n",
    "        :rtype: int\n",
    "        \"\"\"\n",
    "        return bin(x ^ y).count('1')"
   ]
  },
  {
   "cell_type": "code",
   "execution_count": 4,
   "metadata": {},
   "outputs": [
    {
     "data": {
      "text/plain": [
       "2"
      ]
     },
     "execution_count": 4,
     "metadata": {},
     "output_type": "execute_result"
    }
   ],
   "source": [
    "solution = Solution\n",
    "solution.hammingDistance2(0,1,4)"
   ]
  }
 ],
 "metadata": {
  "kernelspec": {
   "display_name": "Python 3",
   "language": "python",
   "name": "python3"
  },
  "language_info": {
   "codemirror_mode": {
    "name": "ipython",
    "version": 3
   },
   "file_extension": ".py",
   "mimetype": "text/x-python",
   "name": "python",
   "nbconvert_exporter": "python",
   "pygments_lexer": "ipython3",
   "version": "3.4.5"
  }
 },
 "nbformat": 4,
 "nbformat_minor": 2
}
