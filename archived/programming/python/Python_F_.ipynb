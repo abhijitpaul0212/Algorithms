{
 "cells": [
  {
   "cell_type": "markdown",
   "metadata": {},
   "source": [
    "### Python"
   ]
  },
  {
   "cell_type": "markdown",
   "metadata": {},
   "source": [
    "- Loop \n",
    "- Lists (ArrayLists)\n",
    "- Dictionaries (HashMaps)"
   ]
  },
  {
   "cell_type": "markdown",
   "metadata": {},
   "source": [
    "#### 1)  Write a function that returns the elements on odd positions (0 based) in a list\n"
   ]
  },
  {
   "cell_type": "code",
   "execution_count": 2,
   "metadata": {
    "collapsed": true
   },
   "outputs": [],
   "source": [
    "#def solution(input):\n",
    "#    #code goes here \n",
    "#    return output\n",
    "#\n",
    "#assert solution([0,1,2,3,4,5]) == [1,3,5]\n",
    "#assert solution([1,-1,2,-2]) == [-1,-2]\n",
    "\n",
    "\n",
    "# 1st way\n",
    "def solution1(x):\n",
    "    return x[1::2]\n",
    "\n",
    "# 2nd way\n",
    "def solution2(x):\n",
    "    l=[]\n",
    "    for count, i in enumerate(x):\n",
    "        if count % 2 == 1:\n",
    "            l.append(i)\n",
    "    return l \n",
    "\n",
    "def solution2_(x):\n",
    "    return [i for count,i in enumerate(x) if count%2 == 1 ]"
   ]
  },
  {
   "cell_type": "code",
   "execution_count": 3,
   "metadata": {
    "collapsed": true
   },
   "outputs": [],
   "source": [
    "l = [0,1,2,3,4,5]\n",
    "k = [1,-1,2,-2]\n",
    "g = [-2, -4, -5, 10, 11, 99]"
   ]
  },
  {
   "cell_type": "code",
   "execution_count": 4,
   "metadata": {},
   "outputs": [
    {
     "name": "stdout",
     "output_type": "stream",
     "text": [
      "[1, 3, 5]\n",
      "[-1, -2]\n",
      "[-4, 10, 99]\n"
     ]
    }
   ],
   "source": [
    "print (solution1(l))\n",
    "print (solution1(k))\n",
    "print (solution1(g))"
   ]
  },
  {
   "cell_type": "code",
   "execution_count": 5,
   "metadata": {},
   "outputs": [
    {
     "name": "stdout",
     "output_type": "stream",
     "text": [
      "[1, 3, 5]\n",
      "[-1, -2]\n",
      "[-4, 10, 99]\n"
     ]
    }
   ],
   "source": [
    "print (solution2(l))\n",
    "print (solution2(k))\n",
    "print (solution2(g))"
   ]
  },
  {
   "cell_type": "code",
   "execution_count": null,
   "metadata": {
    "collapsed": true
   },
   "outputs": [],
   "source": []
  },
  {
   "cell_type": "markdown",
   "metadata": {},
   "source": [
    "#### 2) Write a function that returns the cumulative sum of elements in a list"
   ]
  },
  {
   "cell_type": "code",
   "execution_count": 6,
   "metadata": {
    "collapsed": true
   },
   "outputs": [],
   "source": [
    "#def solution(input):\n",
    "#    # Code goes here \n",
    "#    return output\n",
    "#assert solution([1,1,1]) == [1,2,3]\n",
    "#assert solution([1,-1,3]) == [1,0,3]\n",
    "\n",
    "# 1st way \n",
    "def solution1(x):\n",
    "    temp = 0 \n",
    "    outcome = []\n",
    "    for k in range(len(x)):\n",
    "        temp += x[k]\n",
    "        outcome.append(temp)\n",
    "    return outcome\n",
    "\n",
    "# 2nd way\n",
    "def solution2(x):\n",
    "    import numpy as np\n",
    "    return np.cumsum(x)\n",
    "\n",
    "# 3rd way \n",
    "def solution3(x):\n",
    "    from itertools import accumulate\n",
    "    return list(accumulate(x))"
   ]
  },
  {
   "cell_type": "code",
   "execution_count": 7,
   "metadata": {
    "collapsed": true
   },
   "outputs": [],
   "source": [
    "l = [1,1,1]\n",
    "k = [1,-1,3]\n",
    "j = [0,-1,99]"
   ]
  },
  {
   "cell_type": "code",
   "execution_count": 8,
   "metadata": {},
   "outputs": [
    {
     "name": "stdout",
     "output_type": "stream",
     "text": [
      "[1, 2, 3]\n",
      "[1, 0, 3]\n",
      "[0, -1, 98]\n"
     ]
    }
   ],
   "source": [
    "print (solution1(l))\n",
    "print (solution1(k))\n",
    "print (solution1(j))"
   ]
  },
  {
   "cell_type": "code",
   "execution_count": 9,
   "metadata": {},
   "outputs": [
    {
     "name": "stdout",
     "output_type": "stream",
     "text": [
      "[1 2 3]\n",
      "[1 0 3]\n",
      "[ 0 -1 98]\n"
     ]
    }
   ],
   "source": [
    "print (solution2(l))\n",
    "print (solution2(k))\n",
    "print (solution2(j))"
   ]
  },
  {
   "cell_type": "code",
   "execution_count": 10,
   "metadata": {},
   "outputs": [
    {
     "name": "stdout",
     "output_type": "stream",
     "text": [
      "[1, 2, 3]\n",
      "[1, 0, 3]\n",
      "[0, -1, 98]\n"
     ]
    }
   ],
   "source": [
    "print (solution3(l))\n",
    "print (solution3(k))\n",
    "print (solution3(j))"
   ]
  },
  {
   "cell_type": "markdown",
   "metadata": {},
   "source": [
    "#### 3) Write a function that takes a number and returns a list of its digits"
   ]
  },
  {
   "cell_type": "code",
   "execution_count": 11,
   "metadata": {
    "collapsed": true
   },
   "outputs": [],
   "source": [
    "#def solution(input):\n",
    "#    # Code goes here\n",
    "#    return output\n",
    "#\n",
    "#assert solution(123) == [1,2,3]\n",
    "#assert solution(400) == [4,0,0]\n",
    "\n",
    "\n",
    "# 1st way\n",
    "def solution1(n):\n",
    "    return [int(y) for y in str(n)]\n",
    "\n",
    "# 2nd way \n",
    "def solution2(n):\n",
    "    if n < 10:\n",
    "        return [n]\n",
    "    return solution2(int(n/10)) + [n%10]\n",
    "\n",
    "# 3rd way\n",
    "def solution3(n):\n",
    "    return [int(y) for y in list(str(n))]\n",
    "    #return list(map(int,str(x)))\n"
   ]
  },
  {
   "cell_type": "code",
   "execution_count": 12,
   "metadata": {},
   "outputs": [
    {
     "name": "stdout",
     "output_type": "stream",
     "text": [
      "[1, 3, 3]\n",
      "[9, 1, 3]\n",
      "[3]\n"
     ]
    }
   ],
   "source": [
    "print (solution1(133))\n",
    "print (solution1(913))\n",
    "print (solution1(3))"
   ]
  },
  {
   "cell_type": "code",
   "execution_count": 13,
   "metadata": {},
   "outputs": [
    {
     "name": "stdout",
     "output_type": "stream",
     "text": [
      "[1, 3, 3]\n",
      "[9, 1, 3]\n",
      "[3]\n"
     ]
    }
   ],
   "source": [
    "print (solution2(133))\n",
    "print (solution2(913))\n",
    "print (solution2(3))"
   ]
  },
  {
   "cell_type": "markdown",
   "metadata": {},
   "source": [
    "#### 4) Return the \"centered\" average of an array of ints, which we'll say is  the mean average of the values, except ignoring the largest and  smallest values in the array."
   ]
  },
  {
   "cell_type": "code",
   "execution_count": 14,
   "metadata": {
    "collapsed": true
   },
   "outputs": [],
   "source": [
    "#If there are multiple copies of the \n",
    "#smallest value, ignore just one copy, and likewise for the largest \n",
    "#value. Use int division to produce the final average. You may assume \n",
    "#that the array is length 3 or more.\n",
    "\n",
    "#def solution(input):\n",
    "#    # Code goes here\n",
    "#    return output \n",
    "\n",
    "#assert solution([1, 2, 3, 4, 100]) == 3\n",
    "#assert solution([1, 1, 5, 5, 10, 8, 7]) == 5\n",
    "#assert solution([-10, -4, -2, -4, -2, 0]) == -3\n",
    "\n",
    "# 1st way \n",
    "def solution1(x):\n",
    "    length = len(x)\n",
    "    if length%2 == 1:\n",
    "        return x[int((length-1)/2)]\n",
    "    if len(x)%2 == 0: \n",
    "        return (x[int((length-1)/2)] + x[int((length+1)/2)])/2\n",
    "        \n",
    "\n",
    "def solution3(nums):\n",
    "    nums = set(nums)\n",
    "    nums = sorted(nums)  # if input is not always sorted\n",
    "    if len(nums) <= 2 :\n",
    "        return sum(nums) / len(nums)\n",
    "    nums1 = nums[1:-1]\n",
    "    return sum(nums1) / len(nums1)\n",
    "\n"
   ]
  },
  {
   "cell_type": "code",
   "execution_count": 17,
   "metadata": {},
   "outputs": [
    {
     "name": "stdout",
     "output_type": "stream",
     "text": [
      "3.0\n",
      "-3.0\n",
      "50.0\n",
      "4.0\n"
     ]
    }
   ],
   "source": [
    "x = [1, 2, 3, 4, 100]\n",
    "y = [-10, -4, -2, -4, -2, 0]\n",
    "z = [1, 1, 5, 5, 10, 8, 7]\n",
    "w = [0,100]\n",
    "k = [4]\n",
    "\n",
    "\n",
    "print (solution3(x)) \n",
    "print (solution3(y)) \n",
    "#print (solution3(z)) \n",
    "print (solution3(w)) \n",
    "print (solution3(k)) "
   ]
  },
  {
   "cell_type": "code",
   "execution_count": 19,
   "metadata": {},
   "outputs": [
    {
     "name": "stdout",
     "output_type": "stream",
     "text": [
      "3\n",
      "-3.0\n",
      "5\n",
      "50.0\n",
      "4\n"
     ]
    }
   ],
   "source": [
    "\n",
    "\n",
    "print (solution1(x)) \n",
    "print (solution1(y)) \n",
    "print (solution1(z)) \n",
    "print (solution1(w)) \n",
    "print (solution1(k)) "
   ]
  },
  {
   "cell_type": "markdown",
   "metadata": {},
   "source": [
    "#### 5)  Count distinct words in a sentence "
   ]
  },
  {
   "cell_type": "code",
   "execution_count": 130,
   "metadata": {
    "collapsed": true
   },
   "outputs": [],
   "source": [
    "sentence = \"\"\"But soft what light through yonder window breaks\n",
    "It is the east and Juliet is the sun\n",
    "Arise fair sun and kill the envious moon\n",
    "Who is already sick and pale with grief\n",
    "\"\"\"\n",
    "\n",
    "sentence2= \"\"\"But soft soft soft soft But envious\"\"\"\n",
    "\n",
    "\n",
    "# 1st way \n",
    "def solution1(x):\n",
    "    list_ = x.replace(\"\\n\",\"\").split(\" \")\n",
    "    return set(list_)\n",
    "\n",
    "\n",
    "# 2nd way \n",
    "def solution2(x):\n",
    "    list_ = x.replace(\"\\n\",\"\").split(\" \")\n",
    "    output = []\n",
    "    for item in list_:\n",
    "        if item in output:\n",
    "            pass \n",
    "        else:\n",
    "            output.append(item)\n",
    "    return output \n",
    " "
   ]
  },
  {
   "cell_type": "code",
   "execution_count": 21,
   "metadata": {},
   "outputs": [
    {
     "data": {
      "text/plain": [
       "['But', 'soft', 'envious']"
      ]
     },
     "execution_count": 21,
     "metadata": {},
     "output_type": "execute_result"
    }
   ],
   "source": [
    "solution2(sentence2)"
   ]
  },
  {
   "cell_type": "code",
   "execution_count": 22,
   "metadata": {},
   "outputs": [
    {
     "data": {
      "text/plain": [
       "{'But', 'envious', 'soft'}"
      ]
     },
     "execution_count": 22,
     "metadata": {},
     "output_type": "execute_result"
    }
   ],
   "source": [
    "solution1(sentence2)"
   ]
  },
  {
   "cell_type": "markdown",
   "metadata": {},
   "source": [
    "#### 6) Count the number of times a word appear in a sentence using a Hash Map"
   ]
  },
  {
   "cell_type": "code",
   "execution_count": 23,
   "metadata": {
    "collapsed": true
   },
   "outputs": [],
   "source": [
    "sentence = \"\"\"But soft what light through yonder window breaks\n",
    "It is the east and Juliet is the sun\n",
    "Arise fair sun and kill the envious moon\n",
    "Who is already sick and pale with grief\n",
    "\"\"\"\n",
    "\n",
    "sentence2= \"\"\"But soft soft soft soft But envious\"\"\"\n",
    "\n",
    "# 1st way \n",
    "def solution1(x):\n",
    "    count =[]\n",
    "    list_ = x.replace(\"\\n\",\"\").split(\" \") \n",
    "    for item in set(list_):\n",
    "        #print (item, list_.count(item) )\n",
    "        count.append(list_.count(item))\n",
    "        d = dict(zip(set(list_),count ))\n",
    "    return d \n",
    "\n",
    "# 2nd way \n",
    "def solution2(x):\n",
    "    from collections import Counter\n",
    "    list_ = x.replace(\"\\n\",\"\").split(\" \") \n",
    "    counter = Counter(list_)\n",
    "    for item in set(list_):\n",
    "        print (item, counter[item])\n",
    "\n",
    "# 3rd way         \n",
    "def solution3(x):\n",
    "    counts = dict()\n",
    "    words = x.replace(\"\\n\",\"\").split(\" \") \n",
    "\n",
    "    for word in words:\n",
    "        if word in counts:\n",
    "            counts[word] += 1\n",
    "        else:\n",
    "            counts[word] = 1\n",
    "\n",
    "    return counts"
   ]
  },
  {
   "cell_type": "code",
   "execution_count": 24,
   "metadata": {
    "collapsed": true
   },
   "outputs": [],
   "source": [
    "#d = dict({'a':1,'b':2})\n",
    "# 1 in d.values()\n",
    "# a in d \n",
    "# a in d.keys()\n",
    "# d.items()"
   ]
  },
  {
   "cell_type": "code",
   "execution_count": 25,
   "metadata": {},
   "outputs": [
    {
     "data": {
      "text/plain": [
       "{'But': 2, 'envious': 1, 'soft': 4}"
      ]
     },
     "execution_count": 25,
     "metadata": {},
     "output_type": "execute_result"
    }
   ],
   "source": [
    "solution3(sentence2)"
   ]
  },
  {
   "cell_type": "code",
   "execution_count": 26,
   "metadata": {},
   "outputs": [
    {
     "name": "stdout",
     "output_type": "stream",
     "text": [
      "envious 1\n",
      "soft 4\n",
      "But 2\n"
     ]
    }
   ],
   "source": [
    "solution2(sentence2)"
   ]
  },
  {
   "cell_type": "code",
   "execution_count": 27,
   "metadata": {},
   "outputs": [
    {
     "data": {
      "text/plain": [
       "{'But': 1,\n",
       " 'Juliet': 1,\n",
       " 'already': 1,\n",
       " 'and': 3,\n",
       " 'breaksIt': 1,\n",
       " 'east': 1,\n",
       " 'envious': 1,\n",
       " 'fair': 1,\n",
       " 'grief': 1,\n",
       " 'is': 3,\n",
       " 'kill': 1,\n",
       " 'light': 1,\n",
       " 'moonWho': 1,\n",
       " 'pale': 1,\n",
       " 'sick': 1,\n",
       " 'soft': 1,\n",
       " 'sun': 1,\n",
       " 'sunArise': 1,\n",
       " 'the': 3,\n",
       " 'through': 1,\n",
       " 'what': 1,\n",
       " 'window': 1,\n",
       " 'with': 1,\n",
       " 'yonder': 1}"
      ]
     },
     "execution_count": 27,
     "metadata": {},
     "output_type": "execute_result"
    }
   ],
   "source": [
    "solution1(sentence)"
   ]
  },
  {
   "cell_type": "code",
   "execution_count": 136,
   "metadata": {
    "collapsed": true
   },
   "outputs": [],
   "source": [
    "sentence3 = \"\"\"  AAA BBC AAA PP sofWEFW3t ZZ WXYZ   \"\"\"\n",
    "\n",
    "\n",
    "# https://www.tutorialspoint.com/python/string_strip.htm\n",
    "# The method strip() returns a copy of the string in which all chars have been stripped \n",
    "# from the beginning and the end of the string \n",
    "# (default whitespace characters)\n",
    "\n",
    "def solution3(x):\n",
    "    count =[]\n",
    "    list_ = x.strip(\" \").split(\" \") \n",
    "    for item in set(list_):\n",
    "        count.append(list_.count(item))\n",
    "        d = dict(zip(set(list_),count ))\n",
    "    return d"
   ]
  },
  {
   "cell_type": "code",
   "execution_count": 137,
   "metadata": {},
   "outputs": [
    {
     "data": {
      "text/plain": [
       "{'AAA': 2, 'BBC': 1, 'PP': 1, 'WXYZ': 1, 'ZZ': 1, 'sofWEFW3t': 1}"
      ]
     },
     "execution_count": 137,
     "metadata": {},
     "output_type": "execute_result"
    }
   ],
   "source": [
    "solution3(sentence3)"
   ]
  },
  {
   "cell_type": "markdown",
   "metadata": {},
   "source": [
    "####  7)  Return tuples of a list, matching each item to another item"
   ]
  },
  {
   "cell_type": "markdown",
   "metadata": {},
   "source": [
    "#### 8) Count the number of times a substring appear in a string\n"
   ]
  },
  {
   "cell_type": "code",
   "execution_count": 28,
   "metadata": {
    "collapsed": true
   },
   "outputs": [],
   "source": [
    "# 1st way \n",
    "def solution1(x,substring):\n",
    "    return x.count(substring)\n",
    "\n",
    "# 2nd way \n",
    "def solution2(x,substring):\n",
    "    results = 0\n",
    "    sub_len = len(substring)\n",
    "    for i in range(len(x)):\n",
    "        if x[i:i+sub_len] == substring:\n",
    "            results += 1\n",
    "    print (results)"
   ]
  },
  {
   "cell_type": "code",
   "execution_count": 29,
   "metadata": {},
   "outputs": [
    {
     "name": "stdout",
     "output_type": "stream",
     "text": [
      "0\n"
     ]
    }
   ],
   "source": [
    "s = 'xyzbobxyzbobxyzbob'\n",
    "\n",
    "solution2(s,'bib')"
   ]
  },
  {
   "cell_type": "code",
   "execution_count": 30,
   "metadata": {},
   "outputs": [
    {
     "data": {
      "text/plain": [
       "3"
      ]
     },
     "execution_count": 30,
     "metadata": {},
     "output_type": "execute_result"
    }
   ],
   "source": [
    "solution1(s,'xyz')"
   ]
  },
  {
   "cell_type": "markdown",
   "metadata": {},
   "source": [
    "#### 9) Print Max element of a given list"
   ]
  },
  {
   "cell_type": "code",
   "execution_count": 31,
   "metadata": {
    "collapsed": true
   },
   "outputs": [],
   "source": [
    "# 1st way \n",
    "def solution1(x):\n",
    "    return max(x)\n",
    "\n",
    "# 2nd way \n",
    "def solution2(x):\n",
    "    x_ = sorted(x)\n",
    "    return x_[-1]\n",
    "\n",
    "# 3 rd way \n",
    "def solution3(x):\n",
    "    myMax = x[0]\n",
    "    for num in x:\n",
    "        if myMax < num:\n",
    "            myMax = num\n",
    "    return myMax"
   ]
  },
  {
   "cell_type": "code",
   "execution_count": 32,
   "metadata": {},
   "outputs": [
    {
     "name": "stdout",
     "output_type": "stream",
     "text": [
      "3\n",
      "3\n",
      "3\n"
     ]
    }
   ],
   "source": [
    "l = [9,8,7,1]\n",
    "k = [1,2,3]\n",
    "\n",
    "print (solution1(k))\n",
    "print (solution2(k))\n",
    "print (solution3(k))"
   ]
  },
  {
   "cell_type": "markdown",
   "metadata": {},
   "source": [
    "#### 10) Print median of a given list"
   ]
  },
  {
   "cell_type": "code",
   "execution_count": 33,
   "metadata": {
    "collapsed": true
   },
   "outputs": [],
   "source": [
    "# 1st way\n",
    "def solution1(x):\n",
    "    import statistics\n",
    "    return statistics.median(x)\n"
   ]
  },
  {
   "cell_type": "code",
   "execution_count": 34,
   "metadata": {},
   "outputs": [
    {
     "name": "stdout",
     "output_type": "stream",
     "text": [
      "2\n"
     ]
    }
   ],
   "source": [
    "l = [9,8,7,1]\n",
    "k = [1,2,3]\n",
    "\n",
    "print (solution1(k))"
   ]
  },
  {
   "cell_type": "markdown",
   "metadata": {},
   "source": [
    "#### 11) Print the first nonrecurring element in a list"
   ]
  },
  {
   "cell_type": "code",
   "execution_count": 35,
   "metadata": {
    "collapsed": true
   },
   "outputs": [],
   "source": [
    "l = [9,8,7,1]\n",
    "k = [1,2,3]"
   ]
  },
  {
   "cell_type": "code",
   "execution_count": null,
   "metadata": {
    "collapsed": true
   },
   "outputs": [],
   "source": []
  },
  {
   "cell_type": "markdown",
   "metadata": {},
   "source": [
    "#### 12) Flatten"
   ]
  },
  {
   "cell_type": "code",
   "execution_count": 176,
   "metadata": {},
   "outputs": [],
   "source": [
    "# [[[1, 2, 3], [4, 5]], 6] => [1, 2, 3, 4, 5, 6]\n",
    "# [[1,2,3],[4,5,6], [7], [8,9]] => [1, 2, 3, 4, 5, 6, 7, 8, 9]\n",
    "# # [[7],[4,5,6]]  => [7,4,5,6]\n",
    "\n",
    "\n",
    "# https://stackoverflow.com/questions/952914/making-a-flat-list-out-of-list-of-lists-in-python\n",
    "\n",
    "\n",
    "def solution1(l, a=None):\n",
    "    #check a\n",
    "    if a is None:\n",
    "        #initialize with empty list\n",
    "        a = []\n",
    "\n",
    "    for i in l:\n",
    "        if isinstance(i, list):\n",
    "            solution1(i, a)\n",
    "        else:\n",
    "            a.append(i)\n",
    "    return a\n",
    "\n",
    "\n",
    "def solution1_(x):\n",
    "    pass\n",
    " "
   ]
  },
  {
   "cell_type": "code",
   "execution_count": 178,
   "metadata": {},
   "outputs": [
    {
     "name": "stdout",
     "output_type": "stream",
     "text": [
      "[1, 2, 3, 4, 5, 6]\n",
      "[1, 2, 3, 4, 5, 6, 7, 8, 9]\n",
      "[7, 4, 5, 6]\n"
     ]
    }
   ],
   "source": [
    "l = [[[1, 2, 3], [4, 5]], 6]\n",
    "k = [[1,2,3],[4,5,6], [7], [8,9]] \n",
    "j = [[7],[4,5,6]]\n",
    "\n",
    "print (solution1(l))\n",
    "print (solution1(k))\n",
    "print (solution1(j))"
   ]
  },
  {
   "cell_type": "code",
   "execution_count": 175,
   "metadata": {},
   "outputs": [
    {
     "data": {
      "text/plain": [
       "False"
      ]
     },
     "execution_count": 175,
     "metadata": {},
     "output_type": "execute_result"
    }
   ],
   "source": [
    "[]  == None"
   ]
  },
  {
   "cell_type": "code",
   "execution_count": null,
   "metadata": {
    "collapsed": true
   },
   "outputs": [],
   "source": []
  },
  {
   "cell_type": "code",
   "execution_count": 36,
   "metadata": {
    "collapsed": true
   },
   "outputs": [],
   "source": [
    "#########"
   ]
  },
  {
   "cell_type": "markdown",
   "metadata": {},
   "source": [
    "### SQL"
   ]
  },
  {
   "cell_type": "code",
   "execution_count": 37,
   "metadata": {
    "collapsed": true
   },
   "outputs": [],
   "source": [
    "import pandas as pd \n",
    "\n",
    "from pandasql import sqldf\n",
    "pysqldf = lambda q: sqldf(q, globals())"
   ]
  },
  {
   "cell_type": "code",
   "execution_count": 38,
   "metadata": {
    "collapsed": true
   },
   "outputs": [],
   "source": [
    "# df1 \n",
    "salesperson = pd.DataFrame({'id':[1,2,5,7,8,11],\n",
    "                            'Name':['abe','bob','chris','dan','ken','joe'],\n",
    "                            'age':[61,34,34,41,57,38],\n",
    "                            'salary':[140000,44000,40000,52000,115000,38000]})\n",
    "# df2 \n",
    "customer = pd.DataFrame({'id':[4,6,7,9], \n",
    "                         'Name':['samsonic','pansung','samony','orange'],\n",
    "                         'city':['pleasant','oaktown','jackson','jackson'],\n",
    "                         'industry_type':['J','J','B','B']})\n",
    "\n",
    "\n",
    "\n",
    "# df3 \n",
    "orders = pd.DataFrame({'number':[10,20,30,40,50,60,70],\n",
    "                       'order_date':['8/2/96','1/30/99','7/14/95','1/29/98','2/3/98','3/2/98','5/6/98'],\n",
    "                       'cust_id':[4,4,9,7,6,6,9],\n",
    "                       'sales_person_id':[2,8,1,2,7,7,7],\n",
    "                       'amount':[540,1800,460,2400,600,720,150]})"
   ]
  },
  {
   "cell_type": "code",
   "execution_count": 39,
   "metadata": {},
   "outputs": [
    {
     "data": {
      "text/html": [
       "<div>\n",
       "<style>\n",
       "    .dataframe thead tr:only-child th {\n",
       "        text-align: right;\n",
       "    }\n",
       "\n",
       "    .dataframe thead th {\n",
       "        text-align: left;\n",
       "    }\n",
       "\n",
       "    .dataframe tbody tr th {\n",
       "        vertical-align: top;\n",
       "    }\n",
       "</style>\n",
       "<table border=\"1\" class=\"dataframe\">\n",
       "  <thead>\n",
       "    <tr style=\"text-align: right;\">\n",
       "      <th></th>\n",
       "      <th>Name</th>\n",
       "      <th>age</th>\n",
       "      <th>id</th>\n",
       "      <th>salary</th>\n",
       "    </tr>\n",
       "  </thead>\n",
       "  <tbody>\n",
       "    <tr>\n",
       "      <th>0</th>\n",
       "      <td>abe</td>\n",
       "      <td>61</td>\n",
       "      <td>1</td>\n",
       "      <td>140000</td>\n",
       "    </tr>\n",
       "    <tr>\n",
       "      <th>1</th>\n",
       "      <td>bob</td>\n",
       "      <td>34</td>\n",
       "      <td>2</td>\n",
       "      <td>44000</td>\n",
       "    </tr>\n",
       "    <tr>\n",
       "      <th>2</th>\n",
       "      <td>chris</td>\n",
       "      <td>34</td>\n",
       "      <td>5</td>\n",
       "      <td>40000</td>\n",
       "    </tr>\n",
       "    <tr>\n",
       "      <th>3</th>\n",
       "      <td>dan</td>\n",
       "      <td>41</td>\n",
       "      <td>7</td>\n",
       "      <td>52000</td>\n",
       "    </tr>\n",
       "    <tr>\n",
       "      <th>4</th>\n",
       "      <td>ken</td>\n",
       "      <td>57</td>\n",
       "      <td>8</td>\n",
       "      <td>115000</td>\n",
       "    </tr>\n",
       "    <tr>\n",
       "      <th>5</th>\n",
       "      <td>joe</td>\n",
       "      <td>38</td>\n",
       "      <td>11</td>\n",
       "      <td>38000</td>\n",
       "    </tr>\n",
       "  </tbody>\n",
       "</table>\n",
       "</div>"
      ],
      "text/plain": [
       "    Name  age  id  salary\n",
       "0    abe   61   1  140000\n",
       "1    bob   34   2   44000\n",
       "2  chris   34   5   40000\n",
       "3    dan   41   7   52000\n",
       "4    ken   57   8  115000\n",
       "5    joe   38  11   38000"
      ]
     },
     "execution_count": 39,
     "metadata": {},
     "output_type": "execute_result"
    }
   ],
   "source": [
    "salesperson"
   ]
  },
  {
   "cell_type": "code",
   "execution_count": 40,
   "metadata": {},
   "outputs": [
    {
     "data": {
      "text/html": [
       "<div>\n",
       "<style>\n",
       "    .dataframe thead tr:only-child th {\n",
       "        text-align: right;\n",
       "    }\n",
       "\n",
       "    .dataframe thead th {\n",
       "        text-align: left;\n",
       "    }\n",
       "\n",
       "    .dataframe tbody tr th {\n",
       "        vertical-align: top;\n",
       "    }\n",
       "</style>\n",
       "<table border=\"1\" class=\"dataframe\">\n",
       "  <thead>\n",
       "    <tr style=\"text-align: right;\">\n",
       "      <th></th>\n",
       "      <th>Name</th>\n",
       "      <th>city</th>\n",
       "      <th>id</th>\n",
       "      <th>industry_type</th>\n",
       "    </tr>\n",
       "  </thead>\n",
       "  <tbody>\n",
       "    <tr>\n",
       "      <th>0</th>\n",
       "      <td>samsonic</td>\n",
       "      <td>pleasant</td>\n",
       "      <td>4</td>\n",
       "      <td>J</td>\n",
       "    </tr>\n",
       "    <tr>\n",
       "      <th>1</th>\n",
       "      <td>pansung</td>\n",
       "      <td>oaktown</td>\n",
       "      <td>6</td>\n",
       "      <td>J</td>\n",
       "    </tr>\n",
       "    <tr>\n",
       "      <th>2</th>\n",
       "      <td>samony</td>\n",
       "      <td>jackson</td>\n",
       "      <td>7</td>\n",
       "      <td>B</td>\n",
       "    </tr>\n",
       "    <tr>\n",
       "      <th>3</th>\n",
       "      <td>orange</td>\n",
       "      <td>jackson</td>\n",
       "      <td>9</td>\n",
       "      <td>B</td>\n",
       "    </tr>\n",
       "  </tbody>\n",
       "</table>\n",
       "</div>"
      ],
      "text/plain": [
       "       Name      city  id industry_type\n",
       "0  samsonic  pleasant   4             J\n",
       "1   pansung   oaktown   6             J\n",
       "2    samony   jackson   7             B\n",
       "3    orange   jackson   9             B"
      ]
     },
     "execution_count": 40,
     "metadata": {},
     "output_type": "execute_result"
    }
   ],
   "source": [
    "customer"
   ]
  },
  {
   "cell_type": "code",
   "execution_count": 41,
   "metadata": {},
   "outputs": [
    {
     "data": {
      "text/html": [
       "<div>\n",
       "<style>\n",
       "    .dataframe thead tr:only-child th {\n",
       "        text-align: right;\n",
       "    }\n",
       "\n",
       "    .dataframe thead th {\n",
       "        text-align: left;\n",
       "    }\n",
       "\n",
       "    .dataframe tbody tr th {\n",
       "        vertical-align: top;\n",
       "    }\n",
       "</style>\n",
       "<table border=\"1\" class=\"dataframe\">\n",
       "  <thead>\n",
       "    <tr style=\"text-align: right;\">\n",
       "      <th></th>\n",
       "      <th>amount</th>\n",
       "      <th>cust_id</th>\n",
       "      <th>number</th>\n",
       "      <th>order_date</th>\n",
       "      <th>sales_person_id</th>\n",
       "    </tr>\n",
       "  </thead>\n",
       "  <tbody>\n",
       "    <tr>\n",
       "      <th>0</th>\n",
       "      <td>540</td>\n",
       "      <td>4</td>\n",
       "      <td>10</td>\n",
       "      <td>8/2/96</td>\n",
       "      <td>2</td>\n",
       "    </tr>\n",
       "    <tr>\n",
       "      <th>1</th>\n",
       "      <td>1800</td>\n",
       "      <td>4</td>\n",
       "      <td>20</td>\n",
       "      <td>1/30/99</td>\n",
       "      <td>8</td>\n",
       "    </tr>\n",
       "    <tr>\n",
       "      <th>2</th>\n",
       "      <td>460</td>\n",
       "      <td>9</td>\n",
       "      <td>30</td>\n",
       "      <td>7/14/95</td>\n",
       "      <td>1</td>\n",
       "    </tr>\n",
       "    <tr>\n",
       "      <th>3</th>\n",
       "      <td>2400</td>\n",
       "      <td>7</td>\n",
       "      <td>40</td>\n",
       "      <td>1/29/98</td>\n",
       "      <td>2</td>\n",
       "    </tr>\n",
       "    <tr>\n",
       "      <th>4</th>\n",
       "      <td>600</td>\n",
       "      <td>6</td>\n",
       "      <td>50</td>\n",
       "      <td>2/3/98</td>\n",
       "      <td>7</td>\n",
       "    </tr>\n",
       "    <tr>\n",
       "      <th>5</th>\n",
       "      <td>720</td>\n",
       "      <td>6</td>\n",
       "      <td>60</td>\n",
       "      <td>3/2/98</td>\n",
       "      <td>7</td>\n",
       "    </tr>\n",
       "    <tr>\n",
       "      <th>6</th>\n",
       "      <td>150</td>\n",
       "      <td>9</td>\n",
       "      <td>70</td>\n",
       "      <td>5/6/98</td>\n",
       "      <td>7</td>\n",
       "    </tr>\n",
       "  </tbody>\n",
       "</table>\n",
       "</div>"
      ],
      "text/plain": [
       "   amount  cust_id  number order_date  sales_person_id\n",
       "0     540        4      10     8/2/96                2\n",
       "1    1800        4      20    1/30/99                8\n",
       "2     460        9      30    7/14/95                1\n",
       "3    2400        7      40    1/29/98                2\n",
       "4     600        6      50     2/3/98                7\n",
       "5     720        6      60     3/2/98                7\n",
       "6     150        9      70     5/6/98                7"
      ]
     },
     "execution_count": 41,
     "metadata": {},
     "output_type": "execute_result"
    }
   ],
   "source": [
    "orders"
   ]
  },
  {
   "cell_type": "markdown",
   "metadata": {},
   "source": [
    "#### a) The names of all salespeople that have an order with Samsonic. "
   ]
  },
  {
   "cell_type": "code",
   "execution_count": 42,
   "metadata": {
    "collapsed": true
   },
   "outputs": [],
   "source": [
    "sql_a = \"\"\"\n",
    "\n",
    "select \n",
    "s.name \n",
    "from \n",
    "salesperson s \n",
    "left join orders o\n",
    "on s.id = o.sales_person_id\n",
    "where o.cust_id in (select id from customer where name = 'samsonic')\n",
    "\n",
    "\"\"\"\n"
   ]
  },
  {
   "cell_type": "code",
   "execution_count": 43,
   "metadata": {},
   "outputs": [
    {
     "data": {
      "text/html": [
       "<div>\n",
       "<style>\n",
       "    .dataframe thead tr:only-child th {\n",
       "        text-align: right;\n",
       "    }\n",
       "\n",
       "    .dataframe thead th {\n",
       "        text-align: left;\n",
       "    }\n",
       "\n",
       "    .dataframe tbody tr th {\n",
       "        vertical-align: top;\n",
       "    }\n",
       "</style>\n",
       "<table border=\"1\" class=\"dataframe\">\n",
       "  <thead>\n",
       "    <tr style=\"text-align: right;\">\n",
       "      <th></th>\n",
       "      <th>Name</th>\n",
       "    </tr>\n",
       "  </thead>\n",
       "  <tbody>\n",
       "    <tr>\n",
       "      <th>0</th>\n",
       "      <td>bob</td>\n",
       "    </tr>\n",
       "    <tr>\n",
       "      <th>1</th>\n",
       "      <td>ken</td>\n",
       "    </tr>\n",
       "  </tbody>\n",
       "</table>\n",
       "</div>"
      ],
      "text/plain": [
       "  Name\n",
       "0  bob\n",
       "1  ken"
      ]
     },
     "execution_count": 43,
     "metadata": {},
     "output_type": "execute_result"
    }
   ],
   "source": [
    "pysqldf(sql_a)"
   ]
  },
  {
   "cell_type": "markdown",
   "metadata": {},
   "source": [
    "#### b) The names of all salespeople that do not have any order with Samsonic"
   ]
  },
  {
   "cell_type": "code",
   "execution_count": 44,
   "metadata": {
    "collapsed": true
   },
   "outputs": [],
   "source": [
    "sql_b = \"\"\"\n",
    "\n",
    "select \n",
    "name, count(name) from (\n",
    "select \n",
    "s.name  as name \n",
    "from \n",
    "salesperson s \n",
    "left join orders o\n",
    "on s.id = o.sales_person_id\n",
    "where o.cust_id not in (select id from customer where name = 'samsonic')\n",
    ") sub \n",
    "group by 1 \n",
    "\n",
    "\"\"\"\n"
   ]
  },
  {
   "cell_type": "code",
   "execution_count": 45,
   "metadata": {},
   "outputs": [
    {
     "data": {
      "text/html": [
       "<div>\n",
       "<style>\n",
       "    .dataframe thead tr:only-child th {\n",
       "        text-align: right;\n",
       "    }\n",
       "\n",
       "    .dataframe thead th {\n",
       "        text-align: left;\n",
       "    }\n",
       "\n",
       "    .dataframe tbody tr th {\n",
       "        vertical-align: top;\n",
       "    }\n",
       "</style>\n",
       "<table border=\"1\" class=\"dataframe\">\n",
       "  <thead>\n",
       "    <tr style=\"text-align: right;\">\n",
       "      <th></th>\n",
       "      <th>name</th>\n",
       "      <th>count(name)</th>\n",
       "    </tr>\n",
       "  </thead>\n",
       "  <tbody>\n",
       "    <tr>\n",
       "      <th>0</th>\n",
       "      <td>abe</td>\n",
       "      <td>1</td>\n",
       "    </tr>\n",
       "    <tr>\n",
       "      <th>1</th>\n",
       "      <td>bob</td>\n",
       "      <td>1</td>\n",
       "    </tr>\n",
       "    <tr>\n",
       "      <th>2</th>\n",
       "      <td>dan</td>\n",
       "      <td>3</td>\n",
       "    </tr>\n",
       "  </tbody>\n",
       "</table>\n",
       "</div>"
      ],
      "text/plain": [
       "  name  count(name)\n",
       "0  abe            1\n",
       "1  bob            1\n",
       "2  dan            3"
      ]
     },
     "execution_count": 45,
     "metadata": {},
     "output_type": "execute_result"
    }
   ],
   "source": [
    "pysqldf(sql_b)"
   ]
  },
  {
   "cell_type": "markdown",
   "metadata": {},
   "source": [
    "#### c) The names of salespeople that have 2 or more orders. "
   ]
  },
  {
   "cell_type": "code",
   "execution_count": 46,
   "metadata": {
    "collapsed": true
   },
   "outputs": [],
   "source": [
    "sql_c = \"\"\"\n",
    "\n",
    "\n",
    "select \n",
    "s.name as name,\n",
    "count(s.name) as ordercount\n",
    "from \n",
    "salesperson s \n",
    "left join orders o\n",
    "on s.id = o.sales_person_id\n",
    "group by 1\n",
    "having ordercount >= 2 \n",
    "\n",
    "\n",
    "\"\"\"\n"
   ]
  },
  {
   "cell_type": "code",
   "execution_count": 47,
   "metadata": {},
   "outputs": [
    {
     "data": {
      "text/html": [
       "<div>\n",
       "<style>\n",
       "    .dataframe thead tr:only-child th {\n",
       "        text-align: right;\n",
       "    }\n",
       "\n",
       "    .dataframe thead th {\n",
       "        text-align: left;\n",
       "    }\n",
       "\n",
       "    .dataframe tbody tr th {\n",
       "        vertical-align: top;\n",
       "    }\n",
       "</style>\n",
       "<table border=\"1\" class=\"dataframe\">\n",
       "  <thead>\n",
       "    <tr style=\"text-align: right;\">\n",
       "      <th></th>\n",
       "      <th>name</th>\n",
       "      <th>ordercount</th>\n",
       "    </tr>\n",
       "  </thead>\n",
       "  <tbody>\n",
       "    <tr>\n",
       "      <th>0</th>\n",
       "      <td>bob</td>\n",
       "      <td>2</td>\n",
       "    </tr>\n",
       "    <tr>\n",
       "      <th>1</th>\n",
       "      <td>dan</td>\n",
       "      <td>3</td>\n",
       "    </tr>\n",
       "  </tbody>\n",
       "</table>\n",
       "</div>"
      ],
      "text/plain": [
       "  name  ordercount\n",
       "0  bob           2\n",
       "1  dan           3"
      ]
     },
     "execution_count": 47,
     "metadata": {},
     "output_type": "execute_result"
    }
   ],
   "source": [
    "pysqldf(sql_c)"
   ]
  },
  {
   "cell_type": "markdown",
   "metadata": {},
   "source": [
    "#### d) The names and ages of all salespersons must having a salary of 100,000 or greater.\n",
    "\n"
   ]
  },
  {
   "cell_type": "code",
   "execution_count": 48,
   "metadata": {
    "collapsed": true
   },
   "outputs": [],
   "source": [
    "sql_d = \"\"\"\n",
    "\n",
    "select \n",
    "Name,\n",
    "age,\n",
    "salary\n",
    "from \n",
    "salesperson\n",
    "where salary >= 100000\n",
    "\n",
    "\"\"\"\n"
   ]
  },
  {
   "cell_type": "code",
   "execution_count": 49,
   "metadata": {},
   "outputs": [
    {
     "data": {
      "text/html": [
       "<div>\n",
       "<style>\n",
       "    .dataframe thead tr:only-child th {\n",
       "        text-align: right;\n",
       "    }\n",
       "\n",
       "    .dataframe thead th {\n",
       "        text-align: left;\n",
       "    }\n",
       "\n",
       "    .dataframe tbody tr th {\n",
       "        vertical-align: top;\n",
       "    }\n",
       "</style>\n",
       "<table border=\"1\" class=\"dataframe\">\n",
       "  <thead>\n",
       "    <tr style=\"text-align: right;\">\n",
       "      <th></th>\n",
       "      <th>Name</th>\n",
       "      <th>age</th>\n",
       "      <th>salary</th>\n",
       "    </tr>\n",
       "  </thead>\n",
       "  <tbody>\n",
       "    <tr>\n",
       "      <th>0</th>\n",
       "      <td>abe</td>\n",
       "      <td>61</td>\n",
       "      <td>140000</td>\n",
       "    </tr>\n",
       "    <tr>\n",
       "      <th>1</th>\n",
       "      <td>ken</td>\n",
       "      <td>57</td>\n",
       "      <td>115000</td>\n",
       "    </tr>\n",
       "  </tbody>\n",
       "</table>\n",
       "</div>"
      ],
      "text/plain": [
       "  Name  age  salary\n",
       "0  abe   61  140000\n",
       "1  ken   57  115000"
      ]
     },
     "execution_count": 49,
     "metadata": {},
     "output_type": "execute_result"
    }
   ],
   "source": [
    "pysqldf(sql_d)"
   ]
  },
  {
   "cell_type": "markdown",
   "metadata": {},
   "source": [
    "#### e) What sales people have sold more than 1400 total units?\n"
   ]
  },
  {
   "cell_type": "code",
   "execution_count": 50,
   "metadata": {
    "collapsed": true
   },
   "outputs": [],
   "source": [
    "sql_e = \"\"\"\n",
    "\n",
    "with \n",
    "amount\n",
    "as \n",
    "(select \n",
    "sales_person_id as id,\n",
    "sum(amount) as sale_amount\n",
    "from  \n",
    "orders \n",
    "group by 1 \n",
    "having  sale_amount >= 1400 ) \n",
    "\n",
    "select \n",
    "s.*,\n",
    "a.sale_amount\n",
    "from \n",
    "salesperson s \n",
    "inner join  amount  a \n",
    "on a.id = s.id\n",
    "\n",
    "\n",
    "\n",
    "\"\"\""
   ]
  },
  {
   "cell_type": "code",
   "execution_count": 51,
   "metadata": {},
   "outputs": [
    {
     "data": {
      "text/html": [
       "<div>\n",
       "<style>\n",
       "    .dataframe thead tr:only-child th {\n",
       "        text-align: right;\n",
       "    }\n",
       "\n",
       "    .dataframe thead th {\n",
       "        text-align: left;\n",
       "    }\n",
       "\n",
       "    .dataframe tbody tr th {\n",
       "        vertical-align: top;\n",
       "    }\n",
       "</style>\n",
       "<table border=\"1\" class=\"dataframe\">\n",
       "  <thead>\n",
       "    <tr style=\"text-align: right;\">\n",
       "      <th></th>\n",
       "      <th>Name</th>\n",
       "      <th>age</th>\n",
       "      <th>id</th>\n",
       "      <th>salary</th>\n",
       "      <th>sale_amount</th>\n",
       "    </tr>\n",
       "  </thead>\n",
       "  <tbody>\n",
       "    <tr>\n",
       "      <th>0</th>\n",
       "      <td>bob</td>\n",
       "      <td>34</td>\n",
       "      <td>2</td>\n",
       "      <td>44000</td>\n",
       "      <td>2940</td>\n",
       "    </tr>\n",
       "    <tr>\n",
       "      <th>1</th>\n",
       "      <td>dan</td>\n",
       "      <td>41</td>\n",
       "      <td>7</td>\n",
       "      <td>52000</td>\n",
       "      <td>1470</td>\n",
       "    </tr>\n",
       "    <tr>\n",
       "      <th>2</th>\n",
       "      <td>ken</td>\n",
       "      <td>57</td>\n",
       "      <td>8</td>\n",
       "      <td>115000</td>\n",
       "      <td>1800</td>\n",
       "    </tr>\n",
       "  </tbody>\n",
       "</table>\n",
       "</div>"
      ],
      "text/plain": [
       "  Name  age  id  salary  sale_amount\n",
       "0  bob   34   2   44000         2940\n",
       "1  dan   41   7   52000         1470\n",
       "2  ken   57   8  115000         1800"
      ]
     },
     "execution_count": 51,
     "metadata": {},
     "output_type": "execute_result"
    }
   ],
   "source": [
    "pysqldf(sql_e)"
   ]
  },
  {
   "cell_type": "markdown",
   "metadata": {},
   "source": [
    "#### f)  When was the earliest and latest order made to Samony?\n"
   ]
  },
  {
   "cell_type": "code",
   "execution_count": 52,
   "metadata": {
    "collapsed": true
   },
   "outputs": [],
   "source": [
    "sql_f = \"\"\"\n",
    "\n",
    "select \n",
    "min(order_date) as min_date,\n",
    "max(order_date) as max_date\n",
    "from \n",
    "orders \n",
    "where cust_id = (select id from customer where name = 'samony' )\n",
    "\n",
    "\n",
    "\n",
    "\"\"\""
   ]
  },
  {
   "cell_type": "code",
   "execution_count": 53,
   "metadata": {},
   "outputs": [
    {
     "data": {
      "text/html": [
       "<div>\n",
       "<style>\n",
       "    .dataframe thead tr:only-child th {\n",
       "        text-align: right;\n",
       "    }\n",
       "\n",
       "    .dataframe thead th {\n",
       "        text-align: left;\n",
       "    }\n",
       "\n",
       "    .dataframe tbody tr th {\n",
       "        vertical-align: top;\n",
       "    }\n",
       "</style>\n",
       "<table border=\"1\" class=\"dataframe\">\n",
       "  <thead>\n",
       "    <tr style=\"text-align: right;\">\n",
       "      <th></th>\n",
       "      <th>min_date</th>\n",
       "      <th>max_date</th>\n",
       "    </tr>\n",
       "  </thead>\n",
       "  <tbody>\n",
       "    <tr>\n",
       "      <th>0</th>\n",
       "      <td>1/29/98</td>\n",
       "      <td>1/29/98</td>\n",
       "    </tr>\n",
       "  </tbody>\n",
       "</table>\n",
       "</div>"
      ],
      "text/plain": [
       "  min_date max_date\n",
       "0  1/29/98  1/29/98"
      ]
     },
     "execution_count": 53,
     "metadata": {},
     "output_type": "execute_result"
    }
   ],
   "source": [
    "pysqldf(sql_f)"
   ]
  },
  {
   "cell_type": "markdown",
   "metadata": {},
   "source": [
    "#### g) percentage of sales' salary > 100k ?"
   ]
  },
  {
   "cell_type": "code",
   "execution_count": 109,
   "metadata": {
    "collapsed": true
   },
   "outputs": [],
   "source": [
    "# pct of numbers \n",
    "# https://stackoverflow.com/questions/7061166/sql-calculate-percentage-in-other-table-and-user-percentage-to-filter\n",
    "# select number as float \n",
    "# https://stackoverflow.com/questions/11719044/how-to-get-a-float-result-by-dividing-two-integer-values\n",
    "\n",
    "sql_g_ = \"\"\"\n",
    "\n",
    "select \n",
    "CAST( sales_a as float)/CAST(sales as float)*100 as pct_sales_earn_more_100k\n",
    "from ( \n",
    "select \n",
    "(select count(id) from salesperson where salary > 100000 ) as sales_a,\n",
    "(select count(id) from  salesperson) as sales )\n",
    "\n",
    "\"\"\"\n"
   ]
  },
  {
   "cell_type": "code",
   "execution_count": 110,
   "metadata": {},
   "outputs": [
    {
     "data": {
      "text/html": [
       "<div>\n",
       "<style>\n",
       "    .dataframe thead tr:only-child th {\n",
       "        text-align: right;\n",
       "    }\n",
       "\n",
       "    .dataframe thead th {\n",
       "        text-align: left;\n",
       "    }\n",
       "\n",
       "    .dataframe tbody tr th {\n",
       "        vertical-align: top;\n",
       "    }\n",
       "</style>\n",
       "<table border=\"1\" class=\"dataframe\">\n",
       "  <thead>\n",
       "    <tr style=\"text-align: right;\">\n",
       "      <th></th>\n",
       "      <th>pct_sales_earn_more_100k</th>\n",
       "    </tr>\n",
       "  </thead>\n",
       "  <tbody>\n",
       "    <tr>\n",
       "      <th>0</th>\n",
       "      <td>33.333333</td>\n",
       "    </tr>\n",
       "  </tbody>\n",
       "</table>\n",
       "</div>"
      ],
      "text/plain": [
       "   pct_sales_earn_more_100k\n",
       "0                 33.333333"
      ]
     },
     "execution_count": 110,
     "metadata": {},
     "output_type": "execute_result"
    }
   ],
   "source": [
    "pysqldf(sql_g_)"
   ]
  },
  {
   "cell_type": "markdown",
   "metadata": {},
   "source": [
    "#### h) sales who under  45 (years old ) and their sales order ?"
   ]
  },
  {
   "cell_type": "code",
   "execution_count": 124,
   "metadata": {
    "collapsed": true
   },
   "outputs": [],
   "source": [
    "sql_h = \"\"\"\n",
    "\n",
    "select \n",
    "s.Name,\n",
    "s.age,\n",
    "s.id,\n",
    "count(o.sales_person_id) as saled_order\n",
    "from\n",
    "salesperson s \n",
    "left join orders o on\n",
    "s.id = o.sales_person_id\n",
    "where age < 45 \n",
    "group by 1,2,3 \n",
    "order by saled_order desc\n",
    "\n",
    "\n",
    "\"\"\"\n"
   ]
  },
  {
   "cell_type": "code",
   "execution_count": 125,
   "metadata": {},
   "outputs": [
    {
     "data": {
      "text/html": [
       "<div>\n",
       "<style>\n",
       "    .dataframe thead tr:only-child th {\n",
       "        text-align: right;\n",
       "    }\n",
       "\n",
       "    .dataframe thead th {\n",
       "        text-align: left;\n",
       "    }\n",
       "\n",
       "    .dataframe tbody tr th {\n",
       "        vertical-align: top;\n",
       "    }\n",
       "</style>\n",
       "<table border=\"1\" class=\"dataframe\">\n",
       "  <thead>\n",
       "    <tr style=\"text-align: right;\">\n",
       "      <th></th>\n",
       "      <th>Name</th>\n",
       "      <th>age</th>\n",
       "      <th>id</th>\n",
       "      <th>saled_order</th>\n",
       "    </tr>\n",
       "  </thead>\n",
       "  <tbody>\n",
       "    <tr>\n",
       "      <th>0</th>\n",
       "      <td>dan</td>\n",
       "      <td>41</td>\n",
       "      <td>7</td>\n",
       "      <td>3</td>\n",
       "    </tr>\n",
       "    <tr>\n",
       "      <th>1</th>\n",
       "      <td>bob</td>\n",
       "      <td>34</td>\n",
       "      <td>2</td>\n",
       "      <td>2</td>\n",
       "    </tr>\n",
       "    <tr>\n",
       "      <th>2</th>\n",
       "      <td>chris</td>\n",
       "      <td>34</td>\n",
       "      <td>5</td>\n",
       "      <td>0</td>\n",
       "    </tr>\n",
       "    <tr>\n",
       "      <th>3</th>\n",
       "      <td>joe</td>\n",
       "      <td>38</td>\n",
       "      <td>11</td>\n",
       "      <td>0</td>\n",
       "    </tr>\n",
       "  </tbody>\n",
       "</table>\n",
       "</div>"
      ],
      "text/plain": [
       "    Name  age  id  saled_order\n",
       "0    dan   41   7            3\n",
       "1    bob   34   2            2\n",
       "2  chris   34   5            0\n",
       "3    joe   38  11            0"
      ]
     },
     "execution_count": 125,
     "metadata": {},
     "output_type": "execute_result"
    }
   ],
   "source": [
    "pysqldf(sql_h)"
   ]
  },
  {
   "cell_type": "code",
   "execution_count": 126,
   "metadata": {},
   "outputs": [],
   "source": [
    "#salesperson"
   ]
  },
  {
   "cell_type": "code",
   "execution_count": 127,
   "metadata": {
    "scrolled": true
   },
   "outputs": [],
   "source": [
    "#orders"
   ]
  },
  {
   "cell_type": "code",
   "execution_count": null,
   "metadata": {
    "collapsed": true
   },
   "outputs": [],
   "source": []
  },
  {
   "cell_type": "code",
   "execution_count": null,
   "metadata": {
    "collapsed": true
   },
   "outputs": [],
   "source": []
  },
  {
   "cell_type": "code",
   "execution_count": null,
   "metadata": {
    "collapsed": true
   },
   "outputs": [],
   "source": []
  },
  {
   "cell_type": "code",
   "execution_count": null,
   "metadata": {
    "collapsed": true
   },
   "outputs": [],
   "source": []
  }
 ],
 "metadata": {
  "kernelspec": {
   "display_name": "Python 3",
   "language": "python",
   "name": "python3"
  },
  "language_info": {
   "codemirror_mode": {
    "name": "ipython",
    "version": 3
   },
   "file_extension": ".py",
   "mimetype": "text/x-python",
   "name": "python",
   "nbconvert_exporter": "python",
   "pygments_lexer": "ipython3",
   "version": "3.4.5"
  }
 },
 "nbformat": 4,
 "nbformat_minor": 2
}
